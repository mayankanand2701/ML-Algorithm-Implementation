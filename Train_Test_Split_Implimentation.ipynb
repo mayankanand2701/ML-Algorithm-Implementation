{
 "cells": [
  {
   "cell_type": "code",
   "execution_count": 138,
   "id": "d60beab9",
   "metadata": {},
   "outputs": [],
   "source": [
    "x=[[1,2,3],[2,3,4],[3,4,5],[4,5,6],[5,6,7],[6,7,8],[7,8,9],[8,9,10],[9,10,11],[10,11,12]]\n",
    "y=[1,0,1,1,0,0,1,1,0,0] # labels"
   ]
  },
  {
   "cell_type": "code",
   "execution_count": 139,
   "id": "9e5db4a3",
   "metadata": {},
   "outputs": [],
   "source": [
    "x_train=[]\n",
    "x_test=[]\n",
    "y_train=[]\n",
    "y_test=[]"
   ]
  },
  {
   "cell_type": "code",
   "execution_count": 140,
   "id": "51e9de83",
   "metadata": {},
   "outputs": [],
   "source": [
    "import math\n",
    "import random\n",
    "def split(x,y,ratio):\n",
    "    l1=len(x)\n",
    "    count=math.floor((ratio/100)*l1)\n",
    "    \n",
    "    indexList=[]\n",
    "    for i in range(l1): indexList.append(i)\n",
    "    \n",
    "    randomList=random.sample(indexList,count)\n",
    "    \n",
    "    for i in randomList:\n",
    "        x_train.append(x[i])\n",
    "        y_train.append(y[i])\n",
    "    \n",
    "    for i in range(0,l1):\n",
    "        if i not in randomList:\n",
    "            x_test.append(x[i])\n",
    "            y_test.append(y[i])\n",
    "            \n",
    "    print (\"Trining data and it's label : \")\n",
    "    print(x_train)\n",
    "    print(y_train)\n",
    "    print()\n",
    "    print(\"Testing data and it's label :\")\n",
    "    print(x_test)\n",
    "    print(y_test)"
   ]
  },
  {
   "cell_type": "code",
   "execution_count": 141,
   "id": "fb446ee7",
   "metadata": {},
   "outputs": [
    {
     "name": "stdout",
     "output_type": "stream",
     "text": [
      "Trining data and it's label : \n",
      "[[3, 4, 5], [10, 11, 12], [6, 7, 8], [8, 9, 10], [7, 8, 9], [2, 3, 4], [4, 5, 6]]\n",
      "[1, 0, 0, 1, 1, 0, 1]\n",
      "\n",
      "Testing data and it's label :\n",
      "[[1, 2, 3], [5, 6, 7], [9, 10, 11]]\n",
      "[1, 0, 0]\n"
     ]
    }
   ],
   "source": [
    "split(x,y,70)"
   ]
  }
 ],
 "metadata": {
  "kernelspec": {
   "display_name": "Python 3 (ipykernel)",
   "language": "python",
   "name": "python3"
  },
  "language_info": {
   "codemirror_mode": {
    "name": "ipython",
    "version": 3
   },
   "file_extension": ".py",
   "mimetype": "text/x-python",
   "name": "python",
   "nbconvert_exporter": "python",
   "pygments_lexer": "ipython3",
   "version": "3.9.1"
  }
 },
 "nbformat": 4,
 "nbformat_minor": 5
}
